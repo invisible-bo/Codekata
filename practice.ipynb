{
 "cells": [
  {
   "cell_type": "code",
   "execution_count": 172,
   "metadata": {},
   "outputs": [],
   "source": [
    "class Dog:\n",
    "    def __init__(self, name, breed):\n",
    "        self.name = name   # 속성\n",
    "        self.breed = breed # 속성\n",
    "    \n",
    "    def bark(self): # 메서드\n",
    "        print(f\"{self.name} says Woof!\")"
   ]
  },
  {
   "cell_type": "code",
   "execution_count": 173,
   "metadata": {},
   "outputs": [
    {
     "name": "stdout",
     "output_type": "stream",
     "text": [
      "Buddy\n",
      "Buddy says Woof!\n"
     ]
    }
   ],
   "source": [
    "my_dog = Dog(\"Buddy\", \"Golden Retriever\")\n",
    "print(my_dog.name)  # 출력: Buddy\n",
    "my_dog.bark()  # 출력: Buddy says Woof!\n"
   ]
  },
  {
   "cell_type": "code",
   "execution_count": 174,
   "metadata": {},
   "outputs": [
    {
     "name": "stdout",
     "output_type": "stream",
     "text": [
      "Dog barks\n"
     ]
    }
   ],
   "source": [
    "class Animal:\n",
    "    def speak(self):\n",
    "        print(\"Animal speaks\")\n",
    "        \n",
    "class Dog(Animal):\n",
    "    def speak(self):\n",
    "        print(\"Dog barks\")\n",
    "        \n",
    "dog = Dog()\n",
    "dog.speak()"
   ]
  },
  {
   "cell_type": "code",
   "execution_count": 175,
   "metadata": {},
   "outputs": [],
   "source": [
    "class Monster:\n",
    "    def say(self):\n",
    "        print(\"I am monster\")"
   ]
  },
  {
   "cell_type": "code",
   "execution_count": 176,
   "metadata": {},
   "outputs": [
    {
     "name": "stdout",
     "output_type": "stream",
     "text": [
      "I am monster\n"
     ]
    }
   ],
   "source": [
    "shark = Monster()\n",
    "shark.say()"
   ]
  },
  {
   "cell_type": "code",
   "execution_count": 177,
   "metadata": {},
   "outputs": [],
   "source": [
    "class Monster:\n",
    "    def __init__(self, name):\n",
    "        self.name = name\n",
    "    def say(self):\n",
    "        print(f\"I am {self.name}\")"
   ]
  },
  {
   "cell_type": "code",
   "execution_count": 178,
   "metadata": {},
   "outputs": [
    {
     "name": "stdout",
     "output_type": "stream",
     "text": [
      "I am 상어\n"
     ]
    }
   ],
   "source": [
    "shark = Monster(\"상어\")\n",
    "shark.say()"
   ]
  },
  {
   "cell_type": "code",
   "execution_count": 179,
   "metadata": {},
   "outputs": [],
   "source": [
    "# 부모 class 정의\n",
    "class Animal:\n",
    "    def __init__(self, name):\n",
    "        self.name = name\n",
    "    def speak(self):\n",
    "        return \"this animal makes a sound\"\n",
    "        \n",
    "# 자식 class 1\n",
    "class Dog(Animal):\n",
    "    def speak(self):\n",
    "        return f\"{self.name} says Woof!\"\n",
    "# 자식 class 2\n",
    "class Cat(Animal):\n",
    "    def speak(self):\n",
    "        return f\"{self.name} says Meow!\"\n",
    "    \n",
    "# 객체 생성 및 사용\n",
    "dog = Dog(\"Buddy\")\n",
    "cat = Cat(\"Kitty\")"
   ]
  },
  {
   "cell_type": "code",
   "execution_count": 180,
   "metadata": {},
   "outputs": [
    {
     "name": "stdout",
     "output_type": "stream",
     "text": [
      "Buddy says Woof!\n",
      "Kitty says Meow!\n"
     ]
    }
   ],
   "source": [
    "print (dog.speak())\n",
    "print (cat.speak())"
   ]
  },
  {
   "cell_type": "code",
   "execution_count": 181,
   "metadata": {},
   "outputs": [],
   "source": [
    "class Student:\n",
    "    def __init__(self, name, age):\n",
    "        self.name = name\n",
    "        self.age = age\n",
    "    def introduce(self):\n",
    "        print(f\"제 이름은 {self.name}이고 나이는 {self.age}입니다.\")"
   ]
  },
  {
   "cell_type": "code",
   "execution_count": 182,
   "metadata": {},
   "outputs": [
    {
     "name": "stdout",
     "output_type": "stream",
     "text": [
      "제 이름은 John이고 나이는 18입니다.\n"
     ]
    }
   ],
   "source": [
    "John = Student(\"John\", 18)\n",
    "John.introduce()"
   ]
  },
  {
   "cell_type": "code",
   "execution_count": 183,
   "metadata": {},
   "outputs": [],
   "source": [
    "def total_score(subject, score, grade):\n",
    "    average_score = {\n",
    "        \"A+\":4.5, \"A0\":4.0, \"B+\":3.5,\n",
    "        \"B0\":3.0, \"C+\":2.5, \"C0\":2.0,\n",
    "        \"D+\":1.5, \"D0\":1.0, \"F\" : 0.0 \n",
    "    }\n",
    "\n",
    "\n",
    "    if 1 <= len(subject) <= 50:\n",
    "        if score in [1.0, 2.0, 3.0, 4.0] and all(grade in average_score):\n",
    "            return \n",
    "        \n",
    "            \n",
    "\n",
    "   \n",
    "    \n"
   ]
  },
  {
   "cell_type": "code",
   "execution_count": 184,
   "metadata": {},
   "outputs": [],
   "source": [
    "class Person:\n",
    "    def __init__(self, name, age):\n",
    "        self.name = name\n",
    "        self.age = age\n",
    "\n",
    "    def introduce(self):\n",
    "        print(f\"{self.name} 입니다. {self.age}살입니다.\")\n",
    "    "
   ]
  },
  {
   "cell_type": "code",
   "execution_count": 185,
   "metadata": {},
   "outputs": [],
   "source": [
    "p1 = Person(\"Johnny\", 35)\n",
    "p2 = Person(\"V\", 28)"
   ]
  },
  {
   "cell_type": "code",
   "execution_count": 186,
   "metadata": {},
   "outputs": [
    {
     "name": "stdout",
     "output_type": "stream",
     "text": [
      "Johnny 입니다. 35살입니다.\n",
      "V 입니다. 28살입니다.\n"
     ]
    }
   ],
   "source": [
    "p1.introduce()\n",
    "p2.introduce()"
   ]
  },
  {
   "cell_type": "code",
   "execution_count": 187,
   "metadata": {},
   "outputs": [],
   "source": [
    "class Dog:\n",
    "    def __init__(self, name, breed):\n",
    "        self.name = name\n",
    "        self.breed = breed\n",
    "\n",
    "    def bark(self):\n",
    "        print(f\"{self.name}가 멍멍!\")\n",
    "\n"
   ]
  },
  {
   "cell_type": "code",
   "execution_count": 188,
   "metadata": {},
   "outputs": [
    {
     "name": "stdout",
     "output_type": "stream",
     "text": [
      "바우가 멍멍!\n",
      "choco가 멍멍!\n"
     ]
    }
   ],
   "source": [
    "dog1 = Dog(\"바우\", \"jindog\")\n",
    "dog2 = Dog(\"choco\", \"푸들\")\n",
    "dog1.bark()\n",
    "dog2.bark()"
   ]
  },
  {
   "cell_type": "code",
   "execution_count": 189,
   "metadata": {},
   "outputs": [],
   "source": [
    "class Rectangle:\n",
    "    def __init__(self, width, height):\n",
    "        self.width = width\n",
    "        self.height = height\n",
    "\n",
    "    def area(self):\n",
    "        return self.width * self.height\n",
    "    \n",
    "    def perimeter(self):\n",
    "        return 2 * (self.width + self.height)"
   ]
  },
  {
   "cell_type": "code",
   "execution_count": 190,
   "metadata": {},
   "outputs": [
    {
     "name": "stdout",
     "output_type": "stream",
     "text": [
      "50\n",
      "30\n"
     ]
    }
   ],
   "source": [
    "rect = Rectangle(5, 10)\n",
    "\n",
    "print(rect.area())\n",
    "print(rect.perimeter())"
   ]
  },
  {
   "cell_type": "code",
   "execution_count": 191,
   "metadata": {},
   "outputs": [],
   "source": [
    "class Student:\n",
    "    def __init__(self, name, grade):\n",
    "        self.name = name\n",
    "        self.grade = grade\n",
    "\n",
    "    def introduce(self):\n",
    "        print(f\"나는 {self.name}, {self.grade}학년입니다.\")\n",
    "    "
   ]
  },
  {
   "cell_type": "code",
   "execution_count": 192,
   "metadata": {},
   "outputs": [
    {
     "name": "stdout",
     "output_type": "stream",
     "text": [
      "나는 철수, 3학년입니다.\n",
      "나는 민수, 5학년입니다.\n"
     ]
    }
   ],
   "source": [
    "s1 = Student(\"철수\", 3)\n",
    "s2 = Student(\"민수\", 5)\n",
    "\n",
    "\n",
    "s1.introduce()\n",
    "s2.introduce()\n"
   ]
  },
  {
   "cell_type": "code",
   "execution_count": 193,
   "metadata": {},
   "outputs": [],
   "source": [
    "class Car:\n",
    "    def __init__(self, brand, model):\n",
    "        self.brand = brand\n",
    "        self.model = model\n",
    "        self.speed = 0\n",
    "\n",
    "    def accelerate(self):\n",
    "        self.speed += amount\n",
    "        print(f\"{self.brand} {self.model}의 현재 속도는 {self.speed} 입니다.\")\n",
    "\n",
    "    def brake(self):\n",
    "        self.speed -= amount\n",
    "        if self.speed < 0:\n",
    "            self.speed = 0\n",
    "        print(f\"{self.brand} {self.model}의 현재 속도는 {self.speed} 입니다.\")\n",
    "\n",
    "    def status(self):\n",
    "        print(f\"{self.brand} {self.model}의 현재 속도 {self.speed} 입니다.\")"
   ]
  },
  {
   "cell_type": "code",
   "execution_count": 194,
   "metadata": {},
   "outputs": [],
   "source": [
    "car = Car(\"Tesla\", \"Model S\")"
   ]
  },
  {
   "cell_type": "code",
   "execution_count": 195,
   "metadata": {},
   "outputs": [
    {
     "name": "stdout",
     "output_type": "stream",
     "text": [
      "Tesla Model S의 현재 속도 0 입니다.\n"
     ]
    }
   ],
   "source": [
    "car.status() "
   ]
  },
  {
   "cell_type": "code",
   "execution_count": 196,
   "metadata": {},
   "outputs": [],
   "source": [
    "class Smartphone:\n",
    "    def __init__(self, brand, model):\n",
    "        self.brand = brand\n",
    "        self.model = model\n",
    "        self.battery = 100\n",
    "    \n",
    "    def use_battery(self, amount):\n",
    "        self.battery -= amount\n",
    "        if self.battery < 0:\n",
    "            self.battery = 0\n",
    "\n",
    "    def charge_battery(self, amount):\n",
    "        self.battery += amount\n",
    "        if self.battery > 100:\n",
    "            self.battery = 100\n",
    "\n",
    "    def status(self):\n",
    "        print(f\"{self.brand} {self.model}의 battery는 {self.battery}%\")\n"
   ]
  },
  {
   "cell_type": "code",
   "execution_count": 197,
   "metadata": {},
   "outputs": [
    {
     "name": "stdout",
     "output_type": "stream",
     "text": [
      "Samsung Galaxy S23의 battery는 70%\n"
     ]
    }
   ],
   "source": [
    "phone = Smartphone(\"Samsung\", \"Galaxy S23\")\n",
    "\n",
    "phone.use_battery(30)\n",
    "phone.status()"
   ]
  },
  {
   "cell_type": "code",
   "execution_count": 198,
   "metadata": {},
   "outputs": [],
   "source": [
    "class WaterBottle:\n",
    "    def __init__(self, capacity):\n",
    "        self.capacity = capacity\n",
    "        self.current_water = 0\n",
    "\n",
    "    def fill(self, amount):\n",
    "        self.current_water += amount\n",
    "        if self.current_water > self.capacity:\n",
    "            self.current_water = self.capacity\n",
    "\n",
    "    def drink(self, amount):\n",
    "        self.current_water -= amount\n",
    "        if self.current_water < 0:\n",
    "            self.current_water = 0\n",
    "   \n",
    "    def status(self):\n",
    "        print(f\"현재 물의 양: {self.current_water}ml / {self.capacity}ml\")\n"
   ]
  },
  {
   "cell_type": "code",
   "execution_count": 199,
   "metadata": {},
   "outputs": [
    {
     "name": "stdout",
     "output_type": "stream",
     "text": [
      "현재 물의 양: 300ml / 500ml\n"
     ]
    }
   ],
   "source": [
    "bottle = WaterBottle(500)\n",
    "\n",
    "bottle.fill(300)\n",
    "bottle.status()"
   ]
  },
  {
   "cell_type": "code",
   "execution_count": 200,
   "metadata": {},
   "outputs": [],
   "source": [
    "class BankAccount:\n",
    "    def __init__(self, owner):\n",
    "        self.owner = owner\n",
    "        self.balance = 0\n",
    "\n",
    "    def deposit(self, amount):\n",
    "        self.balance += amount\n",
    "\n",
    "    def withdraw(self, amount):\n",
    "        if self.balance < amount:\n",
    "            print(\"잔액이 부족합니다.\")\n",
    "        else:\n",
    "            self.balance -= amount   \n",
    "\n",
    "    def status(self):\n",
    "        print(self.balance)\n"
   ]
  },
  {
   "cell_type": "code",
   "execution_count": 201,
   "metadata": {},
   "outputs": [],
   "source": [
    "class Movie:\n",
    "    def __init__(self, title, genre):\n",
    "        self.title = title\n",
    "        self.genre = genre\n",
    "        self.rating = 0.0\n",
    "\n",
    "    def set_rating(self, score):\n",
    "        if 0.0 <= score <= 10.0:\n",
    "            self.rating = score\n",
    "        else:\n",
    "            print(\"평점은 0.0에서 10.0 사이여야 합니다.\")\n",
    "          \n",
    "\n",
    "\n",
    "    def get_info(self):\n",
    "        print(f\"영화: {self.title} | 장르: {self.genre} | 평점: {self.rating}\")"
   ]
  },
  {
   "cell_type": "code",
   "execution_count": 202,
   "metadata": {},
   "outputs": [],
   "source": [
    "movie1 = Movie(\"Cyberpunk 2077: Edgerunners\", \"애니메이션\")"
   ]
  },
  {
   "cell_type": "code",
   "execution_count": 203,
   "metadata": {},
   "outputs": [
    {
     "name": "stdout",
     "output_type": "stream",
     "text": [
      "영화: Cyberpunk 2077: Edgerunners | 장르: 애니메이션 | 평점: 10.0\n"
     ]
    }
   ],
   "source": [
    "movie1.set_rating(10.0)\n",
    "movie1.get_info()"
   ]
  },
  {
   "cell_type": "code",
   "execution_count": 204,
   "metadata": {},
   "outputs": [],
   "source": [
    "class Car:\n",
    "    def __init__(self, brand, model, year):\n",
    "        self.brand = brand\n",
    "        self.model = model\n",
    "        self.year = year\n",
    "        self.mileage = 0\n",
    "\n",
    "    def drive(self, mileage):\n",
    "        self.mileage += mileage\n",
    "\n",
    "    def display_info(self):\n",
    "        print(f\"{self.brand} {self.model} ({self.year}) - 주행 거리: {self.mileage}km\")\n",
    "\n",
    "    def is_old(self):\n",
    "        if self.year >= 10: \n",
    "            return True \n",
    "        else:\n",
    "            return False\n",
    "    "
   ]
  },
  {
   "cell_type": "code",
   "execution_count": 76,
   "metadata": {},
   "outputs": [],
   "source": []
  },
  {
   "cell_type": "code",
   "execution_count": 205,
   "metadata": {},
   "outputs": [],
   "source": [
    "class Book:\n",
    "    def __init__(self, title, author, year, is_borrowed=False):\n",
    "        self.title = title\n",
    "        self.author = author\n",
    "        self.year = year\n",
    "        self.is_borrowed = is_borrowed\n",
    "\n",
    "    def borrow(self):\n",
    "        if not self.is_borrowed:  # 책이 빌려지지 않은 상태라면\n",
    "            self.is_borrowed = True\n",
    "            print(\"책이 대여되었습니다.\")\n",
    "        else:\n",
    "            print(\"이 책은 이미 대여 중입니다.\")\n",
    "\n",
    "    def return_book(self):\n",
    "        if self.is_borrowed:  # 책이 빌려진 상태라면\n",
    "            self.is_borrowed = False\n",
    "            print(\"책이 반납되었습니다.\")\n",
    "        else:\n",
    "            print(\"이 책은 대여되지 않았습니다.\")\n",
    "\n",
    "    def display_info(self):\n",
    "        status = \"대여 중\" if self.is_borrowed else \"대여 가능\"\n",
    "        print(f\"{self.title} - {self.author} ({self.year}) / 상태: {status}\")\n",
    "\n"
   ]
  },
  {
   "cell_type": "code",
   "execution_count": 206,
   "metadata": {},
   "outputs": [],
   "source": [
    "class Person:\n",
    "    def __init__(self, name, age):\n",
    "        self.name = name\n",
    "        self.age = age\n",
    "\n",
    "    def introduce(self):\n",
    "        print(f\"{self.name}입니다. {self.age}살 입니다.\")"
   ]
  },
  {
   "cell_type": "code",
   "execution_count": 207,
   "metadata": {},
   "outputs": [
    {
     "name": "stdout",
     "output_type": "stream",
     "text": [
      "B입니다. 35살 입니다.\n"
     ]
    }
   ],
   "source": [
    "p1 = Person(\"B\", 35)\n",
    "p1.introduce()"
   ]
  },
  {
   "cell_type": "code",
   "execution_count": 208,
   "metadata": {},
   "outputs": [],
   "source": [
    "class Counter:\n",
    "    def __init__(self, count = 0):\n",
    "        self.count = count\n",
    "\n",
    "    def increase(self):\n",
    "        self.count += 1\n",
    "\n",
    "    def decrease(self):\n",
    "        self.count -= 1\n",
    "    \n",
    "    def reset(self):\n",
    "        self.count = 0\n",
    "\n",
    "    def get_count(self):\n",
    "        return self.count"
   ]
  },
  {
   "cell_type": "code",
   "execution_count": 210,
   "metadata": {},
   "outputs": [],
   "source": [
    "class Timer:\n",
    "    def __init__(self, second=0):\n",
    "        self.second = second\n",
    "\n",
    "    def set_time(self, second):\n",
    "        self.second = second\n",
    "\n",
    "    def tick(self):\n",
    "        if self.second > 0:\n",
    "            self.second -= 1\n",
    "\n",
    "    def reset(self):\n",
    "        self.second = 0\n",
    "\n",
    "    def get_time(self):\n",
    "        return self.second"
   ]
  },
  {
   "cell_type": "code",
   "execution_count": 214,
   "metadata": {},
   "outputs": [],
   "source": [
    "class ScoreTracker:\n",
    "    def __init__(self, score = 0):\n",
    "        self.score = score\n",
    "\n",
    "    def add_points(self, points):\n",
    "        self.score += points\n",
    "         \n",
    "    def subtract_points(self,points):\n",
    "        self.score = max(0, self.score - points)\n",
    "\n",
    "    def reset(self):\n",
    "        self.score = 0\n",
    "\n",
    "    def get_score(self):\n",
    "        return self.score "
   ]
  },
  {
   "cell_type": "code",
   "execution_count": null,
   "metadata": {},
   "outputs": [],
   "source": [
    "gitmoji practice"
   ]
  }
 ],
 "metadata": {
  "kernelspec": {
   "display_name": "base",
   "language": "python",
   "name": "python3"
  },
  "language_info": {
   "codemirror_mode": {
    "name": "ipython",
    "version": 3
   },
   "file_extension": ".py",
   "mimetype": "text/x-python",
   "name": "python",
   "nbconvert_exporter": "python",
   "pygments_lexer": "ipython3",
   "version": "3.12.7"
  }
 },
 "nbformat": 4,
 "nbformat_minor": 2
}
