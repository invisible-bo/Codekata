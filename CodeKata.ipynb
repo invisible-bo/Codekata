{
 "cells": [
  {
   "cell_type": "code",
   "execution_count": null,
   "metadata": {},
   "outputs": [],
   "source": [
    "code practice"
   ]
  },
  {
   "cell_type": "code",
   "execution_count": 2,
   "metadata": {},
   "outputs": [],
   "source": [
    "def solution(my_string, s, e):\n",
    "    if 1 <= len(my_string) <= 1000 and 0 <= s <= e <len(my_string):\n",
    "        return my_string[:s] + my_string[s:e+1][::-1] + my_string[e+1:]\n"
   ]
  },
  {
   "cell_type": "code",
   "execution_count": 4,
   "metadata": {},
   "outputs": [],
   "source": [
    "def solution(n):\n",
    "    if 1 <= n <= 1000:\n",
    "        return str(n)"
   ]
  },
  {
   "cell_type": "code",
   "execution_count": 7,
   "metadata": {},
   "outputs": [],
   "source": [
    "def solution(n):\n",
    "    if 1 <= n <= 10000: \n",
    "        return [i for i in range(1, n + 1) if n % i == 0]  "
   ]
  },
  {
   "cell_type": "code",
   "execution_count": 9,
   "metadata": {},
   "outputs": [],
   "source": [
    "def solution(a,b):\n",
    "    if 1 <= a <= 100 and 1 <= b <= 100:\n",
    "        return f\"{a} + {b} = {a + b}\"\n"
   ]
  },
  {
   "cell_type": "code",
   "execution_count": 3,
   "metadata": {},
   "outputs": [],
   "source": [
    "def solution(array, n):\n",
    "    if 1 <= len(array) <= 100 and all(0 <= element <= 1000 for element in array) and 0 <= n <= 1000:\n",
    "        return array.count(n)\n",
    "     "
   ]
  },
  {
   "cell_type": "code",
   "execution_count": 4,
   "metadata": {},
   "outputs": [],
   "source": [
    "def solution(numbers, num1, num2):\n",
    "    if 2 <= len(numbers) <= 30 and all(0 <= element <= 1000 for element in numbers) and 0 <= num1 < num2 < len(numbers):\n",
    "        return numbers[num1:num2+1]\n"
   ]
  },
  {
   "cell_type": "code",
   "execution_count": 5,
   "metadata": {},
   "outputs": [],
   "source": [
    "def solution(rny_string):\n",
    "    if 1 <= len(rny_string) <= 100:\n",
    "        return rny_string.replace('m', 'rn')"
   ]
  },
  {
   "cell_type": "code",
   "execution_count": 1,
   "metadata": {},
   "outputs": [],
   "source": [
    "def solution(array, height):\n",
    "    if 1 <= len(array) <= 100 and 1<= height <= 200 and all(1 <= element <= 200 for element in array):\n",
    "        return sum(1 for element in array if element > height)"
   ]
  },
  {
   "cell_type": "code",
   "execution_count": 4,
   "metadata": {},
   "outputs": [],
   "source": [
    "def solution(my_string, n):\n",
    "    if 1 <= len(my_string) <= 1000 and 1 <= n <= len(my_string):\n",
    "        return my_string[0:n] "
   ]
  },
  {
   "cell_type": "code",
   "execution_count": 5,
   "metadata": {},
   "outputs": [],
   "source": [
    "def solution(num_list):\n",
    "    odd = \"\"  \n",
    "    even = \"\" \n",
    "\n",
    "    for num in num_list:  \n",
    "        if num % 2 == 0:  \n",
    "            even += str(num)\n",
    "        else:  \n",
    "            odd += str(num)\n",
    "\n",
    "    return int(odd) + int(even)  \n"
   ]
  },
  {
   "cell_type": "code",
   "execution_count": 1,
   "metadata": {},
   "outputs": [],
   "source": [
    "def solution(a, b, flag):\n",
    "    if -1000 <= a <= 1000 and -1000 <= b <= 1000:\n",
    "        if flag == true:\n",
    "            return a + b\n",
    "        else:\n",
    "            return a - b\n",
    "\n"
   ]
  },
  {
   "cell_type": "code",
   "execution_count": 5,
   "metadata": {},
   "outputs": [],
   "source": [
    "def solution(my_string):\n",
    "    vowels = \"aeiou\"\n",
    "    if 1 <= len(my_string) <= 1000:\n",
    "        return ''.join(char for char in my_string if char not in vowels)\n",
    "\n",
    "# join()은 리스트 []의 요소를 하나씩 가져옴\n",
    "# 각 요소를 빈 문자열 ''로 연결\n",
    "\n",
    "# 같은 내용\n",
    "# for char in my_string:\n",
    "   #  if char not in vowels:\n",
    "     #    print(char)\n",
    "\n",
    "\n"
   ]
  },
  {
   "cell_type": "code",
   "execution_count": 7,
   "metadata": {},
   "outputs": [],
   "source": [
    "def solution(my_string, n):\n",
    "    if 2 <= len(my_string) <= 5 and 2 <= n <= 10:\n",
    "        return ''.join(char * n for char in my_string)\n"
   ]
  },
  {
   "cell_type": "code",
   "execution_count": 9,
   "metadata": {},
   "outputs": [
    {
     "name": "stdout",
     "output_type": "stream",
     "text": [
      "AAABBBCCC\n"
     ]
    }
   ],
   "source": [
    "print(solution(\"ABC\", 3))"
   ]
  },
  {
   "cell_type": "code",
   "execution_count": null,
   "metadata": {},
   "outputs": [],
   "source": [
    "def solution(price):\n",
    "    if 10 <= price <= 1000000:\n",
    "        if price >= 500000:\n",
    "            return int(price * 0.8)\n",
    "        elif price >= 300000:\n",
    "            return int(price * 0.9)\n",
    "        elif price >= 100000:\n",
    "            return int(price * 0.95)\n",
    "        else:\n",
    "            return price"
   ]
  },
  {
   "cell_type": "code",
   "execution_count": 1,
   "metadata": {},
   "outputs": [],
   "source": [
    "def solution(n, k):\n",
    "    if 0 < n < 1000 and n / 10 <= k < 1000:\n",
    "        lamb_price = 12000\n",
    "        drink_price = 2000\n",
    "        free_drink = n // 10\n",
    "        total_price = (n * lamb_price) + ((k - free_drink) * drink_price)\n",
    "        return total_price\n"
   ]
  },
  {
   "cell_type": "code",
   "execution_count": 1,
   "metadata": {},
   "outputs": [],
   "source": [
    "def solution(n, t):\n",
    "    if 1 <= n <= 10 and 1 <= t <= 15:\n",
    "        return n * 2 * t"
   ]
  },
  {
   "cell_type": "code",
   "execution_count": 3,
   "metadata": {},
   "outputs": [],
   "source": [
    "def solution(num_list):\n",
    "    if 2 <= len(num_list) <= 20 and all(1 <= x <= 9 for x in num_list):\n",
    "        if len(num_list) >= 11:\n",
    "            return sum(num_list)\n",
    "        else:\n",
    "            result = 1\n",
    "            for num in num_list:\n",
    "                result *= num  \n",
    "            return result"
   ]
  },
  {
   "cell_type": "code",
   "execution_count": 6,
   "metadata": {},
   "outputs": [],
   "source": [
    "def solution(myString):\n",
    "    if 1 <= len(myString) <= 100000:\n",
    "        return myString.lower()"
   ]
  },
  {
   "cell_type": "code",
   "execution_count": 11,
   "metadata": {},
   "outputs": [],
   "source": [
    "def solution(my_string, k):\n",
    "    if 1 <= k <= 100 and 1 <= len(my_string) <= 100:\n",
    "        return (my_string) * k"
   ]
  },
  {
   "cell_type": "code",
   "execution_count": 1,
   "metadata": {},
   "outputs": [],
   "source": [
    "def solution(n_str):\n",
    "    if 1 <= n_str <= 5:\n",
    "        return int(n_str)"
   ]
  },
  {
   "cell_type": "code",
   "execution_count": 2,
   "metadata": {},
   "outputs": [],
   "source": [
    "def solution(num_list, n):\n",
    "    if 2 <= len(num_list) <= 30 and all (1 <= num <= 9 for num in num_list) and 1 <= n <= len(num_list):\n",
    "        return num_list[n:] + num_list[:n]"
   ]
  },
  {
   "cell_type": "code",
   "execution_count": 3,
   "metadata": {},
   "outputs": [],
   "source": [
    "def solution(my_string):\n",
    "    return my_string.swapcase()"
   ]
  },
  {
   "cell_type": "code",
   "execution_count": 1,
   "metadata": {},
   "outputs": [],
   "source": [
    "def solution(num_list):\n",
    "    if 5 <= len(num_list) and all(-10 <= num <= 100 for num in num_list):\n",
    "        for inx, num in enumerate(num_list):\n",
    "            if num < 0:\n",
    "                return inx\n",
    "        return -1"
   ]
  },
  {
   "cell_type": "code",
   "execution_count": 3,
   "metadata": {},
   "outputs": [],
   "source": [
    "def solution(str1, str2):\n",
    "    if 1 <= len(str1) <= 10 and 1 <= len(str2) <= 10:\n",
    "        print(str1 + str2)"
   ]
  },
  {
   "cell_type": "code",
   "execution_count": 1,
   "metadata": {},
   "outputs": [],
   "source": [
    "def solution(a, b):\n",
    "    ab = int(str(a) + str(b))\n",
    "    ba = int(str(b) + str(a))\n",
    "    if ab == ba:\n",
    "        return ab\n",
    "    elif ab > ba:\n",
    "        return ab\n",
    "    else:\n",
    "        return ba\n",
    "    "
   ]
  },
  {
   "cell_type": "code",
   "execution_count": 2,
   "metadata": {},
   "outputs": [],
   "source": [
    "def solution(n):\n",
    "    if n % 2 == 1:\n",
    "        return sum(i for i in range(1, n+1, 2))\n",
    "    \n",
    "    else:\n",
    "        return sum(i ** 2 for i in range(2, n+1,2))"
   ]
  },
  {
   "cell_type": "code",
   "execution_count": 1,
   "metadata": {},
   "outputs": [],
   "source": [
    "def solution(start_num, end_num):\n",
    "    return list(range(start_num, end_num+1))    "
   ]
  },
  {
   "cell_type": "code",
   "execution_count": 5,
   "metadata": {},
   "outputs": [],
   "source": [
    "def solution(n, numlist):\n",
    "    return [num for num in numlist if num % n == 0]"
   ]
  },
  {
   "cell_type": "code",
   "execution_count": 6,
   "metadata": {},
   "outputs": [],
   "source": [
    "def solution(num_list, n):\n",
    "    return num_list[:n]"
   ]
  },
  {
   "cell_type": "code",
   "execution_count": 1,
   "metadata": {},
   "outputs": [],
   "source": [
    "def solution(arr, k):\n",
    "    if k % 2 == 0:\n",
    "        return [x + k for x in arr]\n",
    "    else:\n",
    "        return [x * k for x in arr]"
   ]
  },
  {
   "cell_type": "code",
   "execution_count": 2,
   "metadata": {},
   "outputs": [],
   "source": [
    "def solution(numbers, n):\n",
    "    result = 0\n",
    "    for num in numbers:\n",
    "        result += num\n",
    "        if result > n:\n",
    "            break\n",
    "    return result"
   ]
  },
  {
   "cell_type": "code",
   "execution_count": 3,
   "metadata": {},
   "outputs": [],
   "source": [
    "def solution(num_list):\n",
    "    if num_list[-1] > num_list[-2]:\n",
    "        result = num_list[-1] - num_list[-2]\n",
    "    else:\n",
    "        result = num_list[-1] * 2\n",
    "        \n",
    "    num_list.append(result)\n",
    "    return num_list"
   ]
  },
  {
   "cell_type": "code",
   "execution_count": 1,
   "metadata": {},
   "outputs": [],
   "source": [
    "def solution(myString, pat):\n",
    "    myString = myString.lower()\n",
    "    pat = pat.lower()\n",
    "    \n",
    "    if pat in myString:\n",
    "        return 1\n",
    "    else:\n",
    "        return 0"
   ]
  },
  {
   "cell_type": "code",
   "execution_count": 2,
   "metadata": {},
   "outputs": [],
   "source": [
    "def solution(n):\n",
    "    x = int(n ** 0.5)\n",
    "    if n == x**2:\n",
    "        return (x+1)**2\n",
    "    else:\n",
    "        return -1"
   ]
  },
  {
   "cell_type": "code",
   "execution_count": 4,
   "metadata": {},
   "outputs": [],
   "source": [
    "def solution(x, n):\n",
    "    return [x * i for i in range(1, n+1)]"
   ]
  },
  {
   "cell_type": "code",
   "execution_count": 1,
   "metadata": {},
   "outputs": [],
   "source": [
    "def solution(strlist):\n",
    "    return [len(s) for s in strlist]"
   ]
  },
  {
   "cell_type": "code",
   "execution_count": 2,
   "metadata": {},
   "outputs": [],
   "source": [
    "def solution(n):\n",
    "    return sum(range(2,n+1,2))"
   ]
  },
  {
   "cell_type": "code",
   "execution_count": 3,
   "metadata": {},
   "outputs": [],
   "source": [
    "def solution(message):\n",
    "    return len(message)*2"
   ]
  },
  {
   "cell_type": "code",
   "execution_count": null,
   "metadata": {},
   "outputs": [],
   "source": [
    "def solution(dot):\n",
    "    x, y = dot\n",
    "    if x > 0 and y > 0:\n",
    "        return 1\n",
    "    elif x < 0 and y > 0:\n",
    "        return 2\n",
    "    elif x < 0 and y < 0:\n",
    "        return 3\n",
    "    else:\n",
    "        return 4\n",
    "    "
   ]
  },
  {
   "cell_type": "code",
   "execution_count": 1,
   "metadata": {},
   "outputs": [],
   "source": [
    "def solution(str1, str2):\n",
    "    return 1 if str2 in str1 else 2"
   ]
  },
  {
   "cell_type": "code",
   "execution_count": 1,
   "metadata": {},
   "outputs": [],
   "source": [
    "def solution(my_string, letter):\n",
    "    return my_string.replace(letter, \"\")"
   ]
  },
  {
   "cell_type": "code",
   "execution_count": 7,
   "metadata": {},
   "outputs": [],
   "source": [
    "def solution(money):\n",
    "    price = 5500\n",
    "    max_cups = money // price\n",
    "    left_money = money % price\n",
    "    return (max_cups, left_money)"
   ]
  },
  {
   "cell_type": "code",
   "execution_count": 8,
   "metadata": {},
   "outputs": [],
   "source": [
    "def solution(money):\n",
    "    return (money // 5500, money % 5500)"
   ]
  },
  {
   "cell_type": "code",
   "execution_count": 1,
   "metadata": {},
   "outputs": [],
   "source": [
    "def solution(n):\n",
    "    if n % 7 != 0:\n",
    "        return n // 7 + 1\n",
    "    else:\n",
    "        return n // 7"
   ]
  },
  {
   "cell_type": "code",
   "execution_count": 2,
   "metadata": {},
   "outputs": [],
   "source": [
    "def solution(numbers):\n",
    "    num_list = sorted(numbers) \n",
    "    return num_list[-1] * num_list[-2]"
   ]
  },
  {
   "cell_type": "code",
   "execution_count": 3,
   "metadata": {},
   "outputs": [],
   "source": [
    "def solution(numbers):\n",
    "    double_numbers = [i * 2 for i in numbers]\n",
    "    return double_numbers"
   ]
  },
  {
   "cell_type": "code",
   "execution_count": 4,
   "metadata": {},
   "outputs": [],
   "source": [
    "def solution(slice, n):\n",
    "    if n % slice != 0:\n",
    "        return n // slice + 1\n",
    "    else:\n",
    "        return n // slice"
   ]
  },
  {
   "cell_type": "code",
   "execution_count": 5,
   "metadata": {},
   "outputs": [],
   "source": [
    "def solution(num_list):\n",
    "    even_num = sum(1 for num in num_list if num % 2 == 0)\n",
    "    odd_num = sum(1 for num in num_list if num % 2 != 0)\n",
    "    return [even_num, odd_num]"
   ]
  },
  {
   "cell_type": "code",
   "execution_count": 1,
   "metadata": {},
   "outputs": [],
   "source": [
    "def solution(s1, s2):\n",
    "    common = set(s1) & set(s2)\n",
    "    return len(common)"
   ]
  },
  {
   "cell_type": "code",
   "execution_count": 2,
   "metadata": {},
   "outputs": [],
   "source": [
    "def solution(s1, s2):\n",
    "    return len(set(s1) & set(s2))"
   ]
  },
  {
   "cell_type": "code",
   "execution_count": 4,
   "metadata": {},
   "outputs": [
    {
     "name": "stdout",
     "output_type": "stream",
     "text": [
      "5\n"
     ]
    }
   ],
   "source": [
    "a = \"tiger\"\n",
    "print(len(a))"
   ]
  },
  {
   "cell_type": "code",
   "execution_count": 1,
   "metadata": {},
   "outputs": [],
   "source": [
    "def solution(n, k):\n",
    "    service_drinks = n // 10\n",
    "    drinks = k - service_drinks\n",
    "    return (n * 12000) + (drinks * 2000)"
   ]
  },
  {
   "cell_type": "code",
   "execution_count": 2,
   "metadata": {},
   "outputs": [],
   "source": [
    "def solution(n, t):\n",
    "    return n * (2 ** t)"
   ]
  },
  {
   "cell_type": "code",
   "execution_count": 3,
   "metadata": {},
   "outputs": [],
   "source": [
    "def solution(sides):\n",
    "    sides.sort()\n",
    "    if sides[2] < sides[0] + sides[1]:\n",
    "        return 1\n",
    "    else:\n",
    "        return 2"
   ]
  },
  {
   "cell_type": "code",
   "execution_count": 1,
   "metadata": {},
   "outputs": [],
   "source": [
    "def solution(n):\n",
    "    return [i for i in range(1, n+1, 2)]"
   ]
  },
  {
   "cell_type": "code",
   "execution_count": 1,
   "metadata": {},
   "outputs": [],
   "source": [
    "def solution(my_string):\n",
    "    vowels = \"aeiou\"\n",
    "    return ''.join(char for char in my_string if char not in vowels)"
   ]
  },
  {
   "cell_type": "code",
   "execution_count": null,
   "metadata": {},
   "outputs": [],
   "source": [
    "def solution(my_string, n):\n",
    "    return \"\".join([i * n for i in my_string])"
   ]
  },
  {
   "cell_type": "code",
   "execution_count": 1,
   "metadata": {},
   "outputs": [],
   "source": [
    "def solution(price):\n",
    "    if price >= 500000:\n",
    "        return int(price * 0.8)\n",
    "    elif price >= 300000:\n",
    "        return int(price * 0.9)\n",
    "    elif price >= 100000:\n",
    "        return int(price * 0.95)\n",
    "    else:\n",
    "        return price"
   ]
  },
  {
   "cell_type": "code",
   "execution_count": 8,
   "metadata": {},
   "outputs": [],
   "source": [
    "def solution(my_string):\n",
    "    return ''.join(i for i in my_string if i.isdigit())"
   ]
  },
  {
   "cell_type": "code",
   "execution_count": 10,
   "metadata": {},
   "outputs": [],
   "source": [
    "result = solution(\"a1b2c3\")"
   ]
  },
  {
   "cell_type": "code",
   "execution_count": 11,
   "metadata": {},
   "outputs": [
    {
     "name": "stdout",
     "output_type": "stream",
     "text": [
      "123\n"
     ]
    }
   ],
   "source": [
    "print(result)"
   ]
  },
  {
   "cell_type": "code",
   "execution_count": 3,
   "metadata": {},
   "outputs": [
    {
     "name": "stdout",
     "output_type": "stream",
     "text": [
      "[1, 2, 3, 4]\n"
     ]
    }
   ],
   "source": [
    "x = [1, 2, 3]\n",
    "y = x\n",
    "y.append(4)\n",
    "print(x)"
   ]
  },
  {
   "cell_type": "code",
   "execution_count": 1,
   "metadata": {},
   "outputs": [],
   "source": [
    "def solution(num, n):\n",
    "    if num % n == 0:\n",
    "        return 1\n",
    "    else:\n",
    "        return 0"
   ]
  },
  {
   "cell_type": "code",
   "execution_count": 1,
   "metadata": {},
   "outputs": [],
   "source": [
    "def solution(number, n, m):\n",
    "    if number % n == 0 and number % m == 0:\n",
    "        return 1\n",
    "    else:\n",
    "        return 0"
   ]
  },
  {
   "cell_type": "code",
   "execution_count": 4,
   "metadata": {},
   "outputs": [
    {
     "name": "stdout",
     "output_type": "stream",
     "text": [
      "1\n"
     ]
    }
   ],
   "source": [
    "A, B = map(int, input().split())\n",
    "print(A - B)"
   ]
  },
  {
   "cell_type": "code",
   "execution_count": 5,
   "metadata": {},
   "outputs": [
    {
     "name": "stdout",
     "output_type": "stream",
     "text": [
      "7\n"
     ]
    }
   ],
   "source": [
    "A, B = map(int, input().split())\n",
    "print(A + B)"
   ]
  },
  {
   "cell_type": "code",
   "execution_count": null,
   "metadata": {},
   "outputs": [],
   "source": []
  }
 ],
 "metadata": {
  "kernelspec": {
   "display_name": "base",
   "language": "python",
   "name": "python3"
  },
  "language_info": {
   "codemirror_mode": {
    "name": "ipython",
    "version": 3
   },
   "file_extension": ".py",
   "mimetype": "text/x-python",
   "name": "python",
   "nbconvert_exporter": "python",
   "pygments_lexer": "ipython3",
   "version": "3.12.7"
  }
 },
 "nbformat": 4,
 "nbformat_minor": 2
}
